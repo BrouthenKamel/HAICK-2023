{
  "nbformat": 4,
  "nbformat_minor": 0,
  "metadata": {
    "colab": {
      "provenance": [],
      "authorship_tag": "ABX9TyPetZY3uYThRg2bYLc+1aSf",
      "include_colab_link": true
    },
    "kernelspec": {
      "name": "python3",
      "display_name": "Python 3"
    },
    "language_info": {
      "name": "python"
    }
  },
  "cells": [
    {
      "cell_type": "markdown",
      "metadata": {
        "id": "view-in-github",
        "colab_type": "text"
      },
      "source": [
        "<a href=\"https://colab.research.google.com/github/BrouthenKamel/HAICK-2023/blob/main/Sonatrach_Challenge.ipynb\" target=\"_parent\"><img src=\"https://colab.research.google.com/assets/colab-badge.svg\" alt=\"Open In Colab\"/></a>"
      ]
    },
    {
      "cell_type": "code",
      "execution_count": 30,
      "metadata": {
        "id": "vgcNhFJ1y1YR"
      },
      "outputs": [],
      "source": [
        "import pandas as pd\n",
        "import numpy as np\n",
        "import matplotlib.pyplot as plt\n",
        "import sklearn\n",
        "import tensorflow as tf\n",
        "from tensorflow import keras as keras\n",
        "from sklearn.feature_selection import mutual_info_regression\n",
        "from sklearn.preprocessing import StandardScaler\n",
        "from sklearn.decomposition import PCA\n",
        "from tensorflow.keras.models import Sequential\n",
        "from tensorflow.keras.layers import Dense, Dropout\n",
        "from tensorflow.keras.callbacks import EarlyStopping\n",
        "import tensorflow.keras.backend as K"
      ]
    },
    {
      "cell_type": "code",
      "source": [
        "from google.colab import drive\n",
        "drive.mount('/gdrive')\n",
        "%cd /gdrive"
      ],
      "metadata": {
        "colab": {
          "base_uri": "https://localhost:8080/"
        },
        "id": "vzVjEuexzOJ-",
        "outputId": "e37bf1ce-6a76-49b7-d9be-caf18faafa92"
      },
      "execution_count": 2,
      "outputs": [
        {
          "output_type": "stream",
          "name": "stdout",
          "text": [
            "Mounted at /gdrive\n",
            "/gdrive\n"
          ]
        }
      ]
    },
    {
      "cell_type": "code",
      "source": [
        "data_path = '/gdrive/MyDrive/Sonatrach_Dataset'"
      ],
      "metadata": {
        "id": "5z2AORKTzUat"
      },
      "execution_count": 3,
      "outputs": []
    },
    {
      "cell_type": "code",
      "source": [
        "data_sample = pd.read_csv(data_path+'/sample.csv')\n",
        "data_train = pd.read_csv(data_path+'/train_dataset.csv')\n",
        "data_test = pd.read_csv(data_path+'/test_dataset.csv')"
      ],
      "metadata": {
        "id": "cTP97T6ozV4g"
      },
      "execution_count": 4,
      "outputs": []
    },
    {
      "cell_type": "code",
      "source": [
        "def make_mi_scores(X, y):\n",
        "    mi_scores = mutual_info_regression(X, y)\n",
        "    mi_scores = pd.Series(mi_scores, name=\"MI Scores\", index=X.columns)\n",
        "    mi_scores = mi_scores.sort_values(ascending=False)\n",
        "    return mi_scores"
      ],
      "metadata": {
        "id": "N7nEDiJMzrLu"
      },
      "execution_count": 5,
      "outputs": []
    },
    {
      "cell_type": "code",
      "source": [
        "mi_scores = make_mi_scores(data_train.drop(columns = [\"ROP (Time)\"]), data_train[\"ROP (Time)\"])\n",
        "mi_scores"
      ],
      "metadata": {
        "id": "a0FYRktYzv6d"
      },
      "execution_count": null,
      "outputs": []
    },
    {
      "cell_type": "code",
      "source": [
        "X = data_train.drop(columns = [\"ROP (Time)\"])\n",
        "y = data_train[\"ROP (Time)\"]"
      ],
      "metadata": {
        "id": "apTb7DXS0HM-"
      },
      "execution_count": 10,
      "outputs": []
    },
    {
      "cell_type": "code",
      "source": [
        "scaler = StandardScaler()\n",
        "X_standardized = scaler.fit_transform(X)\n",
        "X_standardized = pd.DataFrame(X_standardized, columns=data_train.drop(columns = [\"ROP (Time)\"]).columns)"
      ],
      "metadata": {
        "id": "R28lXjpW0KGM"
      },
      "execution_count": 12,
      "outputs": []
    },
    {
      "cell_type": "code",
      "source": [
        "pca = PCA(n_components=0.99)\n",
        "X_pca = pca.fit_transform(X_standardized)\n",
        "\n",
        "component_names = [f\"PC{i+1}\" for i in range(X_pca.shape[1])]\n",
        "X_pca = pd.DataFrame(X_pca, columns=component_names)\n",
        "\n",
        "X_pca.head()"
      ],
      "metadata": {
        "id": "QOhvmFoO0YhF"
      },
      "execution_count": null,
      "outputs": []
    },
    {
      "cell_type": "code",
      "source": [
        "X_pca.shape"
      ],
      "metadata": {
        "colab": {
          "base_uri": "https://localhost:8080/"
        },
        "id": "Z5ywY6SB2Q-8",
        "outputId": "0c6cc3a0-f43d-4163-cc28-18aaedaa2d7b"
      },
      "execution_count": 23,
      "outputs": [
        {
          "output_type": "execute_result",
          "data": {
            "text/plain": [
              "(72000, 25)"
            ]
          },
          "metadata": {},
          "execution_count": 23
        }
      ]
    },
    {
      "cell_type": "code",
      "source": [
        "from keras.engine.training import Model\n",
        "from sklearn.linear_model import SGDRegressor\n",
        "from sklearn.model_selection import GridSearchCV, train_test_split\n",
        "from sklearn.metrics import mean_squared_error\n",
        "\n",
        "X_train, X_test, y_train, y_test = train_test_split(X_pca, y, test_size=0.3, random_state=42)\n",
        "\n",
        "param_grid = {'alpha' : [0.02, 0.01, 0.05],\n",
        "              'penalty' : ['l1', 'l2'],\n",
        "              }\n",
        "\n",
        "model = SGDRegressor()\n",
        "\n",
        "grid_search = GridSearchCV(model, param_grid, cv=5)\n",
        "\n",
        "grid_search.fit(X_train, y_train)\n",
        "\n",
        "print(\"Best hyperparameters: \", grid_search.best_params_)\n",
        "\n",
        "# Make predictions on the test set using the best model\n",
        "best_model = grid_search.best_estimator_\n",
        "y_pred = best_model.predict(X_test)\n",
        "\n",
        "# Calculate the mean squared error\n",
        "rmse = np.sqrt(mean_squared_error(y_test, y_pred))\n",
        "print(\"Mean squared error: \", rmse)"
      ],
      "metadata": {
        "colab": {
          "base_uri": "https://localhost:8080/"
        },
        "id": "hEg4wO8b0wuv",
        "outputId": "c78b33f2-48fd-4aae-f175-10f76e48494b"
      },
      "execution_count": 17,
      "outputs": [
        {
          "output_type": "stream",
          "name": "stdout",
          "text": [
            "Best hyperparameters:  {'alpha': 0.01, 'penalty': 'l1'}\n",
            "Mean squared error:  13.779540547405892\n"
          ]
        }
      ]
    },
    {
      "cell_type": "code",
      "source": [
        "def rmse(y_true, y_pred):\n",
        "    return K.sqrt(K.mean(K.square(y_pred - y_true)))\n",
        "\n",
        "early_stop = EarlyStopping(monitor='val_loss', patience=5)"
      ],
      "metadata": {
        "id": "70Mckcs_11YX"
      },
      "execution_count": 22,
      "outputs": []
    },
    {
      "cell_type": "code",
      "source": [
        "model = Sequential(\n",
        "    [\n",
        "    Dense(128, activation='relu', input_shape=(X_pca.shape[1],)),\n",
        "     Dropout(0.1),\n",
        "    Dense(64, activation='relu'),\n",
        "    Dropout(0.1),\n",
        "    Dense(32, activation='relu'),\n",
        "     Dropout(0.2),\n",
        "    Dense(16, activation='relu'),\n",
        "     Dropout(0.2),\n",
        "    Dense(1, activation='linear')\n",
        "    ]\n",
        ")\n",
        "\n",
        "model.compile(optimizer='adam', loss='mean_squared_error', metrics=[rmse])\n",
        "\n",
        "model.fit(X_train.to_numpy(), y_train.to_numpy(), epochs = 50, validation_split=0.3, callbacks=[early_stop])\n",
        "\n",
        "loss, metric = model.evaluate(X_test, y_test)"
      ],
      "metadata": {
        "colab": {
          "base_uri": "https://localhost:8080/"
        },
        "id": "3OMTnyem1v_8",
        "outputId": "3fa89d56-378f-41b7-809a-5bca415cc187"
      },
      "execution_count": 34,
      "outputs": [
        {
          "output_type": "stream",
          "name": "stdout",
          "text": [
            "Epoch 1/50\n",
            "1103/1103 [==============================] - 6s 4ms/step - loss: 172.2937 - rmse: 12.3551 - val_loss: 88.4115 - val_rmse: 8.9292\n",
            "Epoch 2/50\n",
            "1103/1103 [==============================] - 5s 4ms/step - loss: 121.3945 - rmse: 10.5527 - val_loss: 75.9524 - val_rmse: 8.2893\n",
            "Epoch 3/50\n",
            "1103/1103 [==============================] - 4s 3ms/step - loss: 109.7036 - rmse: 10.0524 - val_loss: 70.5039 - val_rmse: 7.9907\n",
            "Epoch 4/50\n",
            "1103/1103 [==============================] - 4s 3ms/step - loss: 104.8881 - rmse: 9.8052 - val_loss: 68.3782 - val_rmse: 7.8376\n",
            "Epoch 5/50\n",
            "1103/1103 [==============================] - 6s 5ms/step - loss: 101.0621 - rmse: 9.6331 - val_loss: 66.3713 - val_rmse: 7.7504\n",
            "Epoch 6/50\n",
            "1103/1103 [==============================] - 6s 5ms/step - loss: 97.6389 - rmse: 9.4602 - val_loss: 65.1045 - val_rmse: 7.6736\n",
            "Epoch 7/50\n",
            "1103/1103 [==============================] - 4s 3ms/step - loss: 94.7705 - rmse: 9.3259 - val_loss: 61.9076 - val_rmse: 7.5130\n",
            "Epoch 8/50\n",
            "1103/1103 [==============================] - 5s 4ms/step - loss: 91.6466 - rmse: 9.1560 - val_loss: 63.6371 - val_rmse: 7.6038\n",
            "Epoch 9/50\n",
            "1103/1103 [==============================] - 5s 4ms/step - loss: 89.9135 - rmse: 9.0806 - val_loss: 57.3311 - val_rmse: 7.2105\n",
            "Epoch 10/50\n",
            "1103/1103 [==============================] - 4s 4ms/step - loss: 86.9739 - rmse: 8.9215 - val_loss: 58.0751 - val_rmse: 7.2534\n",
            "Epoch 11/50\n",
            "1103/1103 [==============================] - 4s 4ms/step - loss: 85.4730 - rmse: 8.8569 - val_loss: 60.4898 - val_rmse: 7.4117\n",
            "Epoch 12/50\n",
            "1103/1103 [==============================] - 5s 4ms/step - loss: 84.8694 - rmse: 8.8366 - val_loss: 55.1138 - val_rmse: 7.0667\n",
            "Epoch 13/50\n",
            "1103/1103 [==============================] - 4s 4ms/step - loss: 82.6219 - rmse: 8.7139 - val_loss: 56.9793 - val_rmse: 7.1819\n",
            "Epoch 14/50\n",
            "1103/1103 [==============================] - 6s 6ms/step - loss: 80.1651 - rmse: 8.5864 - val_loss: 53.4787 - val_rmse: 6.9575\n",
            "Epoch 15/50\n",
            "1103/1103 [==============================] - 4s 4ms/step - loss: 80.1994 - rmse: 8.5909 - val_loss: 54.3999 - val_rmse: 7.0336\n",
            "Epoch 16/50\n",
            "1103/1103 [==============================] - 4s 4ms/step - loss: 80.1460 - rmse: 8.5768 - val_loss: 57.1458 - val_rmse: 7.1975\n",
            "Epoch 17/50\n",
            "1103/1103 [==============================] - 4s 4ms/step - loss: 79.3245 - rmse: 8.4991 - val_loss: 55.5357 - val_rmse: 7.1058\n",
            "Epoch 18/50\n",
            "1103/1103 [==============================] - 7s 6ms/step - loss: 77.5067 - rmse: 8.4220 - val_loss: 51.1076 - val_rmse: 6.7919\n",
            "Epoch 19/50\n",
            "1103/1103 [==============================] - 4s 3ms/step - loss: 75.5156 - rmse: 8.3317 - val_loss: 53.1157 - val_rmse: 6.9522\n",
            "Epoch 20/50\n",
            "1103/1103 [==============================] - 4s 4ms/step - loss: 75.1081 - rmse: 8.3162 - val_loss: 54.5976 - val_rmse: 7.0424\n",
            "Epoch 21/50\n",
            "1103/1103 [==============================] - 7s 6ms/step - loss: 74.1693 - rmse: 8.2406 - val_loss: 51.5185 - val_rmse: 6.8153\n",
            "Epoch 22/50\n",
            "1103/1103 [==============================] - 4s 3ms/step - loss: 74.9883 - rmse: 8.2836 - val_loss: 49.9676 - val_rmse: 6.7421\n",
            "Epoch 23/50\n",
            "1103/1103 [==============================] - 5s 4ms/step - loss: 72.8102 - rmse: 8.1855 - val_loss: 49.8973 - val_rmse: 6.7175\n",
            "Epoch 24/50\n",
            "1103/1103 [==============================] - 5s 4ms/step - loss: 73.5109 - rmse: 8.1807 - val_loss: 50.0307 - val_rmse: 6.7273\n",
            "Epoch 25/50\n",
            "1103/1103 [==============================] - 4s 3ms/step - loss: 71.6263 - rmse: 8.1346 - val_loss: 51.6294 - val_rmse: 6.8363\n",
            "Epoch 26/50\n",
            "1103/1103 [==============================] - 4s 3ms/step - loss: 70.3129 - rmse: 8.0530 - val_loss: 49.7781 - val_rmse: 6.7199\n",
            "Epoch 27/50\n",
            "1103/1103 [==============================] - 6s 5ms/step - loss: 68.8373 - rmse: 7.9339 - val_loss: 50.3879 - val_rmse: 6.7356\n",
            "Epoch 28/50\n",
            "1103/1103 [==============================] - 4s 3ms/step - loss: 69.8266 - rmse: 7.9858 - val_loss: 45.9019 - val_rmse: 6.4235\n",
            "Epoch 29/50\n",
            "1103/1103 [==============================] - 4s 4ms/step - loss: 68.9036 - rmse: 7.9511 - val_loss: 49.0726 - val_rmse: 6.6349\n",
            "Epoch 30/50\n",
            "1103/1103 [==============================] - 5s 5ms/step - loss: 67.0695 - rmse: 7.8431 - val_loss: 50.5588 - val_rmse: 6.7813\n",
            "Epoch 31/50\n",
            "1103/1103 [==============================] - 4s 4ms/step - loss: 65.7582 - rmse: 7.7606 - val_loss: 46.5919 - val_rmse: 6.4621\n",
            "Epoch 32/50\n",
            "1103/1103 [==============================] - 4s 4ms/step - loss: 67.0884 - rmse: 7.8566 - val_loss: 52.4344 - val_rmse: 6.8947\n",
            "Epoch 33/50\n",
            "1103/1103 [==============================] - 5s 4ms/step - loss: 65.7049 - rmse: 7.7484 - val_loss: 45.9027 - val_rmse: 6.4242\n",
            "675/675 [==============================] - 1s 2ms/step - loss: 45.3634 - rmse: 6.3801\n"
          ]
        }
      ]
    },
    {
      "cell_type": "code",
      "source": [
        "data_test_standard = scaler.transform(data_test)\n",
        "\n",
        "data_test_pca = pca.transform(data_test_standard)\n",
        "print(data_test_pca.shape)\n",
        "component_names = [f\"PC{i+1}\" for i in range(data_test_pca.shape[1])]\n",
        "data_test_pca = pd.DataFrame(data_test_pca, columns=component_names)\n",
        "\n",
        "data_predict = model.predict(data_test_pca.to_numpy())\n",
        "\n",
        "submission = dict()\n",
        "submission[\"id\"] = []\n",
        "submission[\"ROP (Time)\"] = []\n",
        "\n",
        "for index, row in enumerate(data_predict):\n",
        "  submission[\"id\"].append(index)\n",
        "  submission[\"ROP (Time)\"].append(row[0])\n",
        "\n",
        "submit = pd.DataFrame(submission)\n",
        "submit.to_csv('/content/submission_deep2.csv', index=False)"
      ],
      "metadata": {
        "colab": {
          "base_uri": "https://localhost:8080/"
        },
        "id": "7zQ1jKbd3AH5",
        "outputId": "6ff8c2c3-7484-4da5-f4b0-4e0ffebdf5f0"
      },
      "execution_count": 35,
      "outputs": [
        {
          "output_type": "stream",
          "name": "stderr",
          "text": [
            "/usr/local/lib/python3.8/dist-packages/sklearn/base.py:450: UserWarning: X does not have valid feature names, but PCA was fitted with feature names\n",
            "  warnings.warn(\n"
          ]
        },
        {
          "output_type": "stream",
          "name": "stdout",
          "text": [
            "(14394, 25)\n",
            "450/450 [==============================] - 3s 6ms/step\n"
          ]
        }
      ]
    }
  ]
}
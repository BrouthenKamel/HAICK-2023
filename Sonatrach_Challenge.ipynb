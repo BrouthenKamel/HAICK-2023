{
  "nbformat": 4,
  "nbformat_minor": 0,
  "metadata": {
    "colab": {
      "provenance": [],
      "authorship_tag": "ABX9TyO/igErl87dLcuYiWiyquvg",
      "include_colab_link": true
    },
    "kernelspec": {
      "name": "python3",
      "display_name": "Python 3"
    },
    "language_info": {
      "name": "python"
    },
    "accelerator": "TPU",
    "gpuClass": "standard"
  },
  "cells": [
    {
      "cell_type": "markdown",
      "metadata": {
        "id": "view-in-github",
        "colab_type": "text"
      },
      "source": [
        "<a href=\"https://colab.research.google.com/github/BrouthenKamel/HAICK-2023/blob/main/Sonatrach_Challenge.ipynb\" target=\"_parent\"><img src=\"https://colab.research.google.com/assets/colab-badge.svg\" alt=\"Open In Colab\"/></a>"
      ]
    },
    {
      "cell_type": "code",
      "execution_count": 5,
      "metadata": {
        "id": "vgcNhFJ1y1YR"
      },
      "outputs": [],
      "source": [
        "import pandas as pd\n",
        "import numpy as np\n",
        "import matplotlib.pyplot as plt\n",
        "import sklearn\n",
        "import tensorflow as tf\n",
        "from tensorflow import keras as keras\n",
        "from sklearn.linear_model import SGDRegressor\n",
        "from sklearn.model_selection import GridSearchCV, train_test_split\n",
        "from sklearn.metrics import mean_squared_error\n",
        "from sklearn.feature_selection import mutual_info_regression\n",
        "from sklearn.preprocessing import StandardScaler\n",
        "from sklearn.decomposition import PCA\n",
        "from tensorflow.keras.models import Sequential\n",
        "from tensorflow.keras.layers import Dense, Dropout, Conv1D, MaxPooling1D\n",
        "from tensorflow.keras.callbacks import EarlyStopping\n",
        "import tensorflow.keras.backend as K\n",
        "import seaborn as sns"
      ]
    },
    {
      "cell_type": "code",
      "source": [
        "from google.colab import drive\n",
        "drive.mount('/gdrive')\n",
        "%cd /gdrive"
      ],
      "metadata": {
        "colab": {
          "base_uri": "https://localhost:8080/"
        },
        "id": "vzVjEuexzOJ-",
        "outputId": "d760cc69-1ab3-4bf6-dce9-57061e47f827"
      },
      "execution_count": 4,
      "outputs": [
        {
          "output_type": "stream",
          "name": "stdout",
          "text": [
            "Mounted at /gdrive\n",
            "/gdrive\n"
          ]
        }
      ]
    },
    {
      "cell_type": "code",
      "source": [
        "data_path = '/gdrive/MyDrive/Sonatrach_Dataset'"
      ],
      "metadata": {
        "id": "5z2AORKTzUat"
      },
      "execution_count": 6,
      "outputs": []
    },
    {
      "cell_type": "code",
      "source": [
        "data_sample = pd.read_csv(data_path+'/sample.csv')\n",
        "data_train = pd.read_csv(data_path+'/train_dataset.csv')\n",
        "data_test = pd.read_csv(data_path+'/test_dataset.csv')"
      ],
      "metadata": {
        "id": "cTP97T6ozV4g"
      },
      "execution_count": 7,
      "outputs": []
    },
    {
      "cell_type": "code",
      "source": [
        "target_col = \"ROP (Time)\""
      ],
      "metadata": {
        "id": "tIoNa97a_3Pg"
      },
      "execution_count": 8,
      "outputs": []
    },
    {
      "cell_type": "code",
      "source": [
        "data_train[target_col].hist()"
      ],
      "metadata": {
        "colab": {
          "base_uri": "https://localhost:8080/",
          "height": 283
        },
        "id": "FL7u41CgMMNE",
        "outputId": "b2953daf-5f4c-4339-9c3b-b6d881b53c56"
      },
      "execution_count": 9,
      "outputs": [
        {
          "output_type": "execute_result",
          "data": {
            "text/plain": [
              "<AxesSubplot:>"
            ]
          },
          "metadata": {},
          "execution_count": 9
        },
        {
          "output_type": "display_data",
          "data": {
            "text/plain": [
              "<Figure size 432x288 with 1 Axes>"
            ],
            "image/png": "[encoded data removed]"
          },
          "metadata": {
            "needs_background": "light"
          }
        }
      ]
    },
    {
      "cell_type": "code",
      "source": [
        "for col in data_train.columns:\n",
        "    if col != target_col:\n",
        "        plt.figure()\n",
        "        sns.scatterplot(x=col, y=target_col, data=data_train)\n",
        "        plt.xlabel(col)\n",
        "        plt.ylabel(target_col)\n",
        "        plt.title(f'{col} vs {target_col}')\n",
        "        plt.show()"
      ],
      "metadata": {
        "id": "6vR844af_JrR"
      },
      "execution_count": null,
      "outputs": []
    },
    {
      "cell_type": "code",
      "source": [
        "corr = data_train.corr()\n",
        "\n",
        "fig, ax = plt.subplots(figsize=(30,30))\n",
        "sns.heatmap(corr, cmap='coolwarm', annot=True, annot_kws={'size': 12}, square=True)\n",
        "\n",
        "plt.title('Correlation Matrix')\n",
        "plt.show()"
      ],
      "metadata": {
        "id": "omipcSJ5B-_k"
      },
      "execution_count": null,
      "outputs": []
    },
    {
      "cell_type": "code",
      "source": [
        "corr[target_col][ (corr[target_col] > 0.1) | (corr[target_col] < -0.1)].index"
      ],
      "metadata": {
        "id": "-pVWJktmH1DR"
      },
      "execution_count": null,
      "outputs": []
    },
    {
      "cell_type": "code",
      "source": [
        "lin_correlated = ['Depth: TMD', 'Bit Position', 'Torque Min', 'Torque Avg', 'Torque Max',\n",
        "       'WOH Max', 'WOH Avg', 'WOH Inst', 'WOB Max', 'WOB Avg', 'ROP (Time)',\n",
        "       'RPM Avg', 'RPM Inst', 'Flow In Pumps', 'Flow Paddle',\n",
        "       'Pressure: SPP Avg', 'Weight: Overpull Max', 'Hook Position',\n",
        "       'Mud: MWO Avg', 'Mud:Temperature IN Avg', 'Pit 3 Volume',\n",
        "       'Pit 4 Volume', 'Pit 5 Volume', 'Pit 6 Volume', 'Gas Main: C1',\n",
        "       'Gas Main: C2', 'Gas Main: C3', 'Gas Main: nC4']"
      ],
      "metadata": {
        "id": "AMxH8A_8JZFx"
      },
      "execution_count": null,
      "outputs": []
    },
    {
      "cell_type": "code",
      "source": [
        "#drop_cols = [ \"Bit Position\", \"Torque Min\", \"WOH Inst\", \"WOH Max\", \"WOB Max\", \"Gas Main: C1\", \"Gas Main: C3\", \"Weight: Overpull Max\", \"Weight: Drag Max\"]"
      ],
      "metadata": {
        "id": "9Ix6L_1JEMPz"
      },
      "execution_count": null,
      "outputs": []
    },
    {
      "cell_type": "code",
      "source": [
        "#data_train.drop(columns = drop_cols, inplace = True)\n",
        "#data_test.drop(columns = drop_cols, inplace = True)"
      ],
      "metadata": {
        "id": "CLK6dhC7DQaH"
      },
      "execution_count": null,
      "outputs": []
    },
    {
      "cell_type": "code",
      "source": [
        "def make_mi_scores(X, y):\n",
        "    mi_scores = mutual_info_regression(X, y)\n",
        "    mi_scores = pd.Series(mi_scores, name=\"MI Scores\", index=X.columns)\n",
        "    mi_scores = mi_scores.sort_values(ascending=False)\n",
        "    return mi_scores"
      ],
      "metadata": {
        "id": "N7nEDiJMzrLu"
      },
      "execution_count": null,
      "outputs": []
    },
    {
      "cell_type": "code",
      "source": [
        "mi_scores = make_mi_scores(data_train.drop(columns = [\"ROP (Time)\"]), data_train[\"ROP (Time)\"])\n",
        "mi_scores[mi_scores > 0.5].index"
      ],
      "metadata": {
        "id": "a0FYRktYzv6d"
      },
      "execution_count": null,
      "outputs": []
    },
    {
      "cell_type": "code",
      "source": [
        "useful_columns = ['Depth: TMD', 'Bit Position', 'Gas Main: C1', 'Flow In Pumps',\n",
        "       'RPM Avg', 'Pressure: SPP Avg', 'Mud:Temperature IN Avg',\n",
        "       'Pit 2 Volume', 'RPM Inst', 'WOB Avg', 'WOB Max', 'Hook Position',\n",
        "       'Pit 5 Volume', 'Gas Main: C2', 'Pit 6 Volume', 'WOH Avg', 'WOH Max',\n",
        "       'Gas Main: nC4', 'Pit 4 Volume', 'Pit 3 Volume', 'Torque Max',\n",
        "       'WOH Inst', 'Torque Avg', 'Torque Min', 'Mud: Temperature OUT Avg',\n",
        "       'Gas Main: C3', 'Gas Main: iC5', 'Gas Main: nC5', 'Flow Paddle']"
      ],
      "metadata": {
        "id": "lhcQljUPDkgb"
      },
      "execution_count": null,
      "outputs": []
    },
    {
      "cell_type": "code",
      "source": [
        "use_cols = [ x for x in data_train.columns if x in lin_correlated and x in useful_columns ]"
      ],
      "metadata": {
        "id": "HxhVjC6-JdkF"
      },
      "execution_count": null,
      "outputs": []
    },
    {
      "cell_type": "code",
      "source": [
        "X = data_train.drop(columns = [\"ROP (Time)\"])\n",
        "y = data_train[\"ROP (Time)\"]"
      ],
      "metadata": {
        "id": "m8GcFdnFQ373"
      },
      "execution_count": 10,
      "outputs": []
    },
    {
      "cell_type": "code",
      "source": [
        "X = data_train[use_cols]\n",
        "y = data_train[\"ROP (Time)\"]"
      ],
      "metadata": {
        "id": "apTb7DXS0HM-"
      },
      "execution_count": null,
      "outputs": []
    },
    {
      "cell_type": "code",
      "source": [
        "scalerX = StandardScaler()\n",
        "X_standardized = scalerX.fit_transform(X)\n",
        "X_standardized = pd.DataFrame(X_standardized, columns=X.columns)"
      ],
      "metadata": {
        "id": "R28lXjpW0KGM"
      },
      "execution_count": 11,
      "outputs": []
    },
    {
      "cell_type": "code",
      "source": [
        "scalery = StandardScaler()\n",
        "y_standardized = scalery.fit_transform(y.values.reshape(-1, 1))\n",
        "y_mean = scalery.mean_[0]\n",
        "y_std = scalery.scale_[0]"
      ],
      "metadata": {
        "id": "-7Qe55WwRQTl"
      },
      "execution_count": 12,
      "outputs": []
    },
    {
      "cell_type": "code",
      "source": [
        "pca = PCA(n_components=0.99)\n",
        "X_pca = pca.fit_transform(X_standardized)\n",
        "\n",
        "component_names = [f\"PC{i+1}\" for i in range(X_pca.shape[1])]\n",
        "X_pca = pd.DataFrame(X_pca, columns=component_names)\n",
        "\n",
        "X_pca.head()"
      ],
      "metadata": {
        "id": "QOhvmFoO0YhF",
        "outputId": "5615f3b4-95ad-44f0-dc06-da85baf04fce",
        "colab": {
          "base_uri": "https://localhost:8080/",
          "height": 299
        }
      },
      "execution_count": 13,
      "outputs": [
        {
          "output_type": "execute_result",
          "data": {
            "text/plain": [
              "        PC1       PC2       PC3       PC4       PC5       PC6       PC7  \\\n",
              "0  5.761816 -2.503586  0.082445  1.109747 -2.498940  0.197451  1.267715   \n",
              "1  5.688759 -2.549047 -0.008387  1.107061 -2.529669  0.209672  1.285583   \n",
              "2  5.785639 -2.508448  0.069646  1.205118 -2.467734  0.137754  1.254297   \n",
              "3  5.759341 -2.522675  0.036974  1.206588 -2.474869  0.136152  1.254821   \n",
              "4  5.813274 -2.440876  0.241392  0.865381 -2.553367  0.346314  1.298457   \n",
              "\n",
              "        PC8       PC9      PC10  ...      PC16      PC17      PC18      PC19  \\\n",
              "0 -0.179587 -0.705152  0.410927  ... -0.146397 -0.021754 -0.506985  0.241559   \n",
              "1 -0.142858 -0.717039  0.421388  ... -0.096702 -0.037665 -0.512749  0.269673   \n",
              "2 -0.160977 -0.717796  0.392223  ... -0.308470 -0.055265 -0.484436  0.213117   \n",
              "3 -0.131316 -0.724474  0.398807  ... -0.351706 -0.077344 -0.472904  0.220540   \n",
              "4 -0.333341 -0.661657  0.412831  ...  0.267152  0.100973 -0.589734  0.268322   \n",
              "\n",
              "       PC20      PC21      PC22      PC23      PC24      PC25  \n",
              "0  0.918510  0.162330  0.561252 -0.590410 -0.488346  0.318559  \n",
              "1  0.965225  0.159827  0.624168 -0.609285 -0.508186  0.301877  \n",
              "2  0.890046  0.158270  0.551071 -0.548606 -0.471599  0.319178  \n",
              "3  0.916495  0.170114  0.589656 -0.597222 -0.481654  0.319712  \n",
              "4  0.895075  0.136298  0.451415 -0.514898 -0.492649  0.308155  \n",
              "\n",
              "[5 rows x 25 columns]"
            ],
            "text/html": [
              "\n",
              "  <div id=\"df-3e71cea1-5d7e-44de-9029-6e17760aebb3\">\n",
              "    <div class=\"colab-df-container\">\n",
              "      <div>\n",
              "<style scoped>\n",
              "    .dataframe tbody tr th:only-of-type {\n",
              "        vertical-align: middle;\n",
              "    }\n",
              "\n",
              "    .dataframe tbody tr th {\n",
              "        vertical-align: top;\n",
              "    }\n",
              "\n",
              "    .dataframe thead th {\n",
              "        text-align: right;\n",
              "    }\n",
              "</style>\n",
              "<table border=\"1\" class=\"dataframe\">\n",
              "  <thead>\n",
              "    <tr style=\"text-align: right;\">\n",
              "      <th></th>\n",
              "      <th>PC1</th>\n",
              "      <th>PC2</th>\n",
              "      <th>PC3</th>\n",
              "      <th>PC4</th>\n",
              "      <th>PC5</th>\n",
              "      <th>PC6</th>\n",
              "      <th>PC7</th>\n",
              "      <th>PC8</th>\n",
              "      <th>PC9</th>\n",
              "      <th>PC10</th>\n",
              "      <th>...</th>\n",
              "      <th>PC16</th>\n",
              "      <th>PC17</th>\n",
              "      <th>PC18</th>\n",
              "      <th>PC19</th>\n",
              "      <th>PC20</th>\n",
              "      <th>PC21</th>\n",
              "      <th>PC22</th>\n",
              "      <th>PC23</th>\n",
              "      <th>PC24</th>\n",
              "      <th>PC25</th>\n",
              "    </tr>\n",
              "  </thead>\n",
              "  <tbody>\n",
              "    <tr>\n",
              "      <th>0</th>\n",
              "      <td>5.761816</td>\n",
              "      <td>-2.503586</td>\n",
              "      <td>0.082445</td>\n",
              "      <td>1.109747</td>\n",
              "      <td>-2.498940</td>\n",
              "      <td>0.197451</td>\n",
              "      <td>1.267715</td>\n",
              "      <td>-0.179587</td>\n",
              "      <td>-0.705152</td>\n",
              "      <td>0.410927</td>\n",
              "      <td>...</td>\n",
              "      <td>-0.146397</td>\n",
              "      <td>-0.021754</td>\n",
              "      <td>-0.506985</td>\n",
              "      <td>0.241559</td>\n",
              "      <td>0.918510</td>\n",
              "      <td>0.162330</td>\n",
              "      <td>0.561252</td>\n",
              "      <td>-0.590410</td>\n",
              "      <td>-0.488346</td>\n",
              "      <td>0.318559</td>\n",
              "    </tr>\n",
              "    <tr>\n",
              "      <th>1</th>\n",
              "      <td>5.688759</td>\n",
              "      <td>-2.549047</td>\n",
              "      <td>-0.008387</td>\n",
              "      <td>1.107061</td>\n",
              "      <td>-2.529669</td>\n",
              "      <td>0.209672</td>\n",
              "      <td>1.285583</td>\n",
              "      <td>-0.142858</td>\n",
              "      <td>-0.717039</td>\n",
              "      <td>0.421388</td>\n",
              "      <td>...</td>\n",
              "      <td>-0.096702</td>\n",
              "      <td>-0.037665</td>\n",
              "      <td>-0.512749</td>\n",
              "      <td>0.269673</td>\n",
              "      <td>0.965225</td>\n",
              "      <td>0.159827</td>\n",
              "      <td>0.624168</td>\n",
              "      <td>-0.609285</td>\n",
              "      <td>-0.508186</td>\n",
              "      <td>0.301877</td>\n",
              "    </tr>\n",
              "    <tr>\n",
              "      <th>2</th>\n",
              "      <td>5.785639</td>\n",
              "      <td>-2.508448</td>\n",
              "      <td>0.069646</td>\n",
              "      <td>1.205118</td>\n",
              "      <td>-2.467734</td>\n",
              "      <td>0.137754</td>\n",
              "      <td>1.254297</td>\n",
              "      <td>-0.160977</td>\n",
              "      <td>-0.717796</td>\n",
              "      <td>0.392223</td>\n",
              "      <td>...</td>\n",
              "      <td>-0.308470</td>\n",
              "      <td>-0.055265</td>\n",
              "      <td>-0.484436</td>\n",
              "      <td>0.213117</td>\n",
              "      <td>0.890046</td>\n",
              "      <td>0.158270</td>\n",
              "      <td>0.551071</td>\n",
              "      <td>-0.548606</td>\n",
              "      <td>-0.471599</td>\n",
              "      <td>0.319178</td>\n",
              "    </tr>\n",
              "    <tr>\n",
              "      <th>3</th>\n",
              "      <td>5.759341</td>\n",
              "      <td>-2.522675</td>\n",
              "      <td>0.036974</td>\n",
              "      <td>1.206588</td>\n",
              "      <td>-2.474869</td>\n",
              "      <td>0.136152</td>\n",
              "      <td>1.254821</td>\n",
              "      <td>-0.131316</td>\n",
              "      <td>-0.724474</td>\n",
              "      <td>0.398807</td>\n",
              "      <td>...</td>\n",
              "      <td>-0.351706</td>\n",
              "      <td>-0.077344</td>\n",
              "      <td>-0.472904</td>\n",
              "      <td>0.220540</td>\n",
              "      <td>0.916495</td>\n",
              "      <td>0.170114</td>\n",
              "      <td>0.589656</td>\n",
              "      <td>-0.597222</td>\n",
              "      <td>-0.481654</td>\n",
              "      <td>0.319712</td>\n",
              "    </tr>\n",
              "    <tr>\n",
              "      <th>4</th>\n",
              "      <td>5.813274</td>\n",
              "      <td>-2.440876</td>\n",
              "      <td>0.241392</td>\n",
              "      <td>0.865381</td>\n",
              "      <td>-2.553367</td>\n",
              "      <td>0.346314</td>\n",
              "      <td>1.298457</td>\n",
              "      <td>-0.333341</td>\n",
              "      <td>-0.661657</td>\n",
              "      <td>0.412831</td>\n",
              "      <td>...</td>\n",
              "      <td>0.267152</td>\n",
              "      <td>0.100973</td>\n",
              "      <td>-0.589734</td>\n",
              "      <td>0.268322</td>\n",
              "      <td>0.895075</td>\n",
              "      <td>0.136298</td>\n",
              "      <td>0.451415</td>\n",
              "      <td>-0.514898</td>\n",
              "      <td>-0.492649</td>\n",
              "      <td>0.308155</td>\n",
              "    </tr>\n",
              "  </tbody>\n",
              "</table>\n",
              "<p>5 rows × 25 columns</p>\n",
              "</div>\n",
              "      <button class=\"colab-df-convert\" onclick=\"convertToInteractive('df-3e71cea1-5d7e-44de-9029-6e17760aebb3')\"\n",
              "              title=\"Convert this dataframe to an interactive table.\"\n",
              "              style=\"display:none;\">\n",
              "        \n",
              "  <svg xmlns=\"http://www.w3.org/2000/svg\" height=\"24px\"viewBox=\"0 0 24 24\"\n",
              "       width=\"24px\">\n",
              "    <path d=\"M0 0h24v24H0V0z\" fill=\"none\"/>\n",
              "    <path d=\"M18.56 5.44l.94 2.06.94-2.06 2.06-.94-2.06-.94-.94-2.06-.94 2.06-2.06.94zm-11 1L8.5 8.5l.94-2.06 2.06-.94-2.06-.94L8.5 2.5l-.94 2.06-2.06.94zm10 10l.94 2.06.94-2.06 2.06-.94-2.06-.94-.94-2.06-.94 2.06-2.06.94z\"/><path d=\"M17.41 7.96l-1.37-1.37c-.4-.4-.92-.59-1.43-.59-.52 0-1.04.2-1.43.59L10.3 9.45l-7.72 7.72c-.78.78-.78 2.05 0 2.83L4 21.41c.39.39.9.59 1.41.59.51 0 1.02-.2 1.41-.59l7.78-7.78 2.81-2.81c.8-.78.8-2.07 0-2.86zM5.41 20L4 18.59l7.72-7.72 1.47 1.35L5.41 20z\"/>\n",
              "  </svg>\n",
              "      </button>\n",
              "      \n",
              "  <style>\n",
              "    .colab-df-container {\n",
              "      display:flex;\n",
              "      flex-wrap:wrap;\n",
              "      gap: 12px;\n",
              "    }\n",
              "\n",
              "    .colab-df-convert {\n",
              "      background-color: #E8F0FE;\n",
              "      border: none;\n",
              "      border-radius: 50%;\n",
              "      cursor: pointer;\n",
              "      display: none;\n",
              "      fill: #1967D2;\n",
              "      height: 32px;\n",
              "      padding: 0 0 0 0;\n",
              "      width: 32px;\n",
              "    }\n",
              "\n",
              "    .colab-df-convert:hover {\n",
              "      background-color: #E2EBFA;\n",
              "      box-shadow: 0px 1px 2px rgba(60, 64, 67, 0.3), 0px 1px 3px 1px rgba(60, 64, 67, 0.15);\n",
              "      fill: #174EA6;\n",
              "    }\n",
              "\n",
              "    [theme=dark] .colab-df-convert {\n",
              "      background-color: #3B4455;\n",
              "      fill: #D2E3FC;\n",
              "    }\n",
              "\n",
              "    [theme=dark] .colab-df-convert:hover {\n",
              "      background-color: #434B5C;\n",
              "      box-shadow: 0px 1px 3px 1px rgba(0, 0, 0, 0.15);\n",
              "      filter: drop-shadow(0px 1px 2px rgba(0, 0, 0, 0.3));\n",
              "      fill: #FFFFFF;\n",
              "    }\n",
              "  </style>\n",
              "\n",
              "      <script>\n",
              "        const buttonEl =\n",
              "          document.querySelector('#df-3e71cea1-5d7e-44de-9029-6e17760aebb3 button.colab-df-convert');\n",
              "        buttonEl.style.display =\n",
              "          google.colab.kernel.accessAllowed ? 'block' : 'none';\n",
              "\n",
              "        async function convertToInteractive(key) {\n",
              "          const element = document.querySelector('#df-3e71cea1-5d7e-44de-9029-6e17760aebb3');\n",
              "          const dataTable =\n",
              "            await google.colab.kernel.invokeFunction('convertToInteractive',\n",
              "                                                     [key], {});\n",
              "          if (!dataTable) return;\n",
              "\n",
              "          const docLinkHtml = 'Like what you see? Visit the ' +\n",
              "            '<a target=\"_blank\" href=https://colab.research.google.com/notebooks/data_table.ipynb>data table notebook</a>'\n",
              "            + ' to learn more about interactive tables.';\n",
              "          element.innerHTML = '';\n",
              "          dataTable['output_type'] = 'display_data';\n",
              "          await google.colab.output.renderOutput(dataTable, element);\n",
              "          const docLink = document.createElement('div');\n",
              "          docLink.innerHTML = docLinkHtml;\n",
              "          element.appendChild(docLink);\n",
              "        }\n",
              "      </script>\n",
              "    </div>\n",
              "  </div>\n",
              "  "
            ]
          },
          "metadata": {},
          "execution_count": 13
        }
      ]
    },
    {
      "cell_type": "code",
      "source": [
        "X_pca.shape"
      ],
      "metadata": {
        "id": "Z5ywY6SB2Q-8"
      },
      "execution_count": null,
      "outputs": []
    },
    {
      "cell_type": "code",
      "source": [
        "X_train, X_test, y_train, y_test = train_test_split(X_pca, y_standardized, test_size=0.2, random_state=20)"
      ],
      "metadata": {
        "id": "Xb1UW0fLE322"
      },
      "execution_count": 14,
      "outputs": []
    },
    {
      "cell_type": "code",
      "source": [
        "def rmse(y_true, y_pred):\n",
        "    return K.sqrt(K.mean(K.square(y_pred - y_true)))\n",
        "\n",
        "early_stop = EarlyStopping(monitor='val_loss', patience=3)"
      ],
      "metadata": {
        "id": "70Mckcs_11YX"
      },
      "execution_count": 17,
      "outputs": []
    },
    {
      "cell_type": "code",
      "source": [
        "model = Sequential(\n",
        "    [\n",
        "    Dense(92, activation='relu', kernel_initializer='normal'),\n",
        "     Dense(64, activation = 'relu', kernel_initializer='normal'),\n",
        "     Dense(64, activation='relu', kernel_initializer='normal'),\n",
        "     Dense(64, activation='relu', kernel_initializer='normal'),\n",
        "    Dense(1, activation='linear', kernel_initializer='normal')\n",
        "    ]\n",
        ")"
      ],
      "metadata": {
        "id": "mnb7Pr5_ME1L"
      },
      "execution_count": 23,
      "outputs": []
    },
    {
      "cell_type": "code",
      "source": [
        "optimizer = tf.keras.optimizers.Adam(learning_rate=0.001)\n",
        "model.compile(optimizer=optimizer, loss='mean_squared_error', metrics=[rmse])"
      ],
      "metadata": {
        "id": "ZNg0td__MJYV"
      },
      "execution_count": 27,
      "outputs": []
    },
    {
      "cell_type": "code",
      "source": [
        "model.fit(X_train.to_numpy(), y_train, epochs=20 , validation_split=0.2)"
      ],
      "metadata": {
        "id": "pANKB7IWMJ5Y",
        "outputId": "b385e752-3bf1-4730-8ec4-137b287523b3",
        "colab": {
          "base_uri": "https://localhost:8080/"
        }
      },
      "execution_count": 28,
      "outputs": [
        {
          "output_type": "stream",
          "name": "stdout",
          "text": [
            "Epoch 1/20\n",
            "1440/1440 [==============================] - 7s 4ms/step - loss: 0.0505 - rmse: 0.2127 - val_loss: 0.0642 - val_rmse: 0.2387\n",
            "Epoch 2/20\n",
            "1440/1440 [==============================] - 6s 4ms/step - loss: 0.0485 - rmse: 0.2079 - val_loss: 0.0646 - val_rmse: 0.2361\n",
            "Epoch 3/20\n",
            "1440/1440 [==============================] - 4s 3ms/step - loss: 0.0478 - rmse: 0.2064 - val_loss: 0.0597 - val_rmse: 0.2278\n",
            "Epoch 4/20\n",
            "1440/1440 [==============================] - 4s 3ms/step - loss: 0.0459 - rmse: 0.2022 - val_loss: 0.0622 - val_rmse: 0.2343\n",
            "Epoch 5/20\n",
            "1440/1440 [==============================] - 6s 4ms/step - loss: 0.0448 - rmse: 0.1996 - val_loss: 0.0555 - val_rmse: 0.2219\n",
            "Epoch 6/20\n",
            "1440/1440 [==============================] - 4s 3ms/step - loss: 0.0452 - rmse: 0.1996 - val_loss: 0.0552 - val_rmse: 0.2201\n",
            "Epoch 7/20\n",
            "1440/1440 [==============================] - 4s 3ms/step - loss: 0.0427 - rmse: 0.1945 - val_loss: 0.0550 - val_rmse: 0.2198\n",
            "Epoch 8/20\n",
            "1440/1440 [==============================] - 6s 4ms/step - loss: 0.0431 - rmse: 0.1952 - val_loss: 0.0560 - val_rmse: 0.2228\n",
            "Epoch 9/20\n",
            "1440/1440 [==============================] - 4s 3ms/step - loss: 0.0416 - rmse: 0.1918 - val_loss: 0.0579 - val_rmse: 0.2242\n",
            "Epoch 10/20\n",
            "1440/1440 [==============================] - 4s 3ms/step - loss: 0.0395 - rmse: 0.1874 - val_loss: 0.0562 - val_rmse: 0.2220\n",
            "Epoch 11/20\n",
            "1440/1440 [==============================] - 6s 4ms/step - loss: 0.0396 - rmse: 0.1874 - val_loss: 0.0523 - val_rmse: 0.2140\n",
            "Epoch 12/20\n",
            "1440/1440 [==============================] - 4s 3ms/step - loss: 0.0392 - rmse: 0.1862 - val_loss: 0.0528 - val_rmse: 0.2146\n",
            "Epoch 13/20\n",
            "1440/1440 [==============================] - 4s 3ms/step - loss: 0.0379 - rmse: 0.1826 - val_loss: 0.0599 - val_rmse: 0.2299\n",
            "Epoch 14/20\n",
            "1440/1440 [==============================] - 6s 4ms/step - loss: 0.0375 - rmse: 0.1815 - val_loss: 0.0550 - val_rmse: 0.2188\n",
            "Epoch 15/20\n",
            "1440/1440 [==============================] - 4s 3ms/step - loss: 0.0360 - rmse: 0.1781 - val_loss: 0.0500 - val_rmse: 0.2087\n",
            "Epoch 16/20\n",
            "1440/1440 [==============================] - 4s 3ms/step - loss: 0.0346 - rmse: 0.1758 - val_loss: 0.0535 - val_rmse: 0.2159\n",
            "Epoch 17/20\n",
            "1440/1440 [==============================] - 6s 4ms/step - loss: 0.0349 - rmse: 0.1756 - val_loss: 0.0507 - val_rmse: 0.2094\n",
            "Epoch 18/20\n",
            "1440/1440 [==============================] - 4s 3ms/step - loss: 0.0345 - rmse: 0.1747 - val_loss: 0.0553 - val_rmse: 0.2193\n",
            "Epoch 19/20\n",
            "1440/1440 [==============================] - 4s 3ms/step - loss: 0.0347 - rmse: 0.1738 - val_loss: 0.0494 - val_rmse: 0.2074\n",
            "Epoch 20/20\n",
            "1440/1440 [==============================] - 7s 5ms/step - loss: 0.0327 - rmse: 0.1704 - val_loss: 0.0497 - val_rmse: 0.2071\n"
          ]
        },
        {
          "output_type": "execute_result",
          "data": {
            "text/plain": [
              "<keras.callbacks.History at 0x7f9935d7a070>"
            ]
          },
          "metadata": {},
          "execution_count": 28
        }
      ]
    },
    {
      "cell_type": "code",
      "source": [
        "loss, metric = model.evaluate(X_test, y_test)"
      ],
      "metadata": {
        "colab": {
          "base_uri": "https://localhost:8080/"
        },
        "id": "3OMTnyem1v_8",
        "outputId": "fbc73d2d-026e-465a-9dba-62bc82cb2120"
      },
      "execution_count": 29,
      "outputs": [
        {
          "output_type": "stream",
          "name": "stdout",
          "text": [
            "450/450 [==============================] - 1s 2ms/step - loss: 0.0522 - rmse: 0.2119\n"
          ]
        }
      ]
    },
    {
      "cell_type": "code",
      "source": [
        "data_test = data_test[use_cols]"
      ],
      "metadata": {
        "id": "VnYmmFD7EY66"
      },
      "execution_count": null,
      "outputs": []
    },
    {
      "cell_type": "code",
      "source": [
        "data_test_standard = scalerX.transform(data_test)\n",
        "\n",
        "data_test_pca = pca.transform(data_test_standard)\n",
        "print(data_test_pca.shape)\n",
        "component_names = [f\"PC{i+1}\" for i in range(data_test_pca.shape[1])]\n",
        "data_test_pca = pd.DataFrame(data_test_pca, columns=component_names)\n",
        "\n",
        "data_predict = model.predict(data_test_pca.to_numpy())\n",
        "\n",
        "submission = dict()\n",
        "submission[\"id\"] = []\n",
        "submission[\"ROP (Time)\"] = []\n",
        "\n",
        "for index, row in enumerate(data_predict):\n",
        "  submission[\"id\"].append(index)\n",
        "  submission[\"ROP (Time)\"].append(row[0] * y_std + y_mean )\n",
        "\n",
        "submit = pd.DataFrame(submission)\n",
        "submit.to_csv('/content/last.csv', index=False)"
      ],
      "metadata": {
        "colab": {
          "base_uri": "https://localhost:8080/"
        },
        "id": "7zQ1jKbd3AH5",
        "outputId": "77230146-f38b-4756-9cd5-29a4fb542556"
      },
      "execution_count": 30,
      "outputs": [
        {
          "output_type": "stream",
          "name": "stderr",
          "text": [
            "/usr/local/lib/python3.8/dist-packages/sklearn/base.py:450: UserWarning: X does not have valid feature names, but PCA was fitted with feature names\n",
            "  warnings.warn(\n"
          ]
        },
        {
          "output_type": "stream",
          "name": "stdout",
          "text": [
            "(14394, 25)\n",
            "450/450 [==============================] - 3s 5ms/step\n"
          ]
        }
      ]
    },
    {
      "cell_type": "code",
      "source": [
        "from sklearn.ensemble import RandomForestRegressor\n",
        "from sklearn.metrics import mean_squared_error\n",
        "from sklearn.model_selection import GridSearchCV\n",
        "\n",
        "rf = RandomForestRegressor()\n",
        "\n",
        "# Define a parameter grid to search over\n",
        "param_grid = {\n",
        "    'n_estimators': [50, 100],\n",
        "    'max_depth': [None, 5],\n",
        "}\n",
        "\n",
        "#grid_search = GridSearchCV(rf, param_grid, cv=5, scoring='neg_mean_squared_error')\n",
        "\n",
        "rf.fit(X_train, y_train.reshape(-1, 1))\n",
        "\n",
        "#print(\"Best parameters:\", grid_search.best_params_)\n",
        "#print(\"Best score:\", -grid_search.best_score_)\n",
        "\n",
        "#best_rf = RandomForestRegressor(n_estimators=grid_search.best_params_['n_estimators'],\n",
        "#                                 max_depth=grid_search.best_params_['max_depth'],\n",
        " #                                )\n",
        "\n",
        "#best_rf.fit(X, y)\n",
        "\n",
        "y_pred = rf.predict(X_test)\n",
        "rmse = np.sqrt(mean_squared_error(y_test, y_pred))\n",
        "print(\"Root Mean squared error:\", rmse)"
      ],
      "metadata": {
        "colab": {
          "base_uri": "https://localhost:8080/"
        },
        "id": "1HVckC7mNory",
        "outputId": "6b4e4843-a095-4231-cb50-83f8dba616ef"
      },
      "execution_count": null,
      "outputs": [
        {
          "output_type": "stream",
          "name": "stderr",
          "text": [
            "<ipython-input-46-667210690c61>:15: DataConversionWarning: A column-vector y was passed when a 1d array was expected. Please change the shape of y to (n_samples,), for example using ravel().\n",
            "  rf.fit(X_train, y_train.reshape(-1, 1))\n"
          ]
        }
      ]
    },
    {
      "cell_type": "code",
      "source": [
        "from xgboost import XGBRegressor\n",
        "\n",
        "xgb = XGBRegressor(learning_rate = 0.01, n_estimators = 20)\n",
        "\n",
        "param_grid = {\n",
        "    'learning_rate': [0.01, 0.1],\n",
        "}\n",
        "\n",
        "#grid_search = GridSearchCV(xgb, param_grid=param_grid, scoring='neg_mean_squared_error', cv=2)\n",
        "\n",
        "xgb.fit(X_train, y_train)\n",
        "\n",
        "#print(\"Best Parameters: \", grid_search.best_params_)\n",
        "#print(\"MSE: \", -grid_search.best_score_)\n",
        "\n",
        "#best_xgb = XGBRegressor(**grid_search.best_params_)\n",
        "#best_xgb.fit(X_train, y_train)\n",
        "\n",
        "y_pred = xgb.predict(X_test)\n",
        "\n",
        "mse = mean_squared_error(y_test, y_pred)\n",
        "print(\"RMSE on test set: \", np.sqrt(mse))"
      ],
      "metadata": {
        "colab": {
          "base_uri": "https://localhost:8080/"
        },
        "id": "ZcgMv_umhv8f",
        "outputId": "e70ea90f-d3d3-4441-9e74-925477a76816"
      },
      "execution_count": 44,
      "outputs": [
        {
          "output_type": "stream",
          "name": "stdout",
          "text": [
            "[08:46:34] WARNING: /workspace/src/objective/regression_obj.cu:152: reg:linear is now deprecated in favor of reg:squarederror.\n",
            "RMSE on test set:  0.9724723526717031\n"
          ]
        }
      ]
    }
  ]
}